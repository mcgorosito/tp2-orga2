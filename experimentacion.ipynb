{
 "cells": [
  {
   "cell_type": "code",
   "execution_count": 1,
   "metadata": {},
   "outputs": [],
   "source": [
    "import subprocess\n",
    "import time\n",
    "import pandas as pd\n",
    "\n",
    "def correr_filtro(nombre_filtro, implementacion, nombre_img_src, nombre_img_dst = None):\n",
    "    path_tp2 = \"./src/build/tp2\"\n",
    "    path_dir_img = \"src/img/\"\n",
    "    path_img_src = path_dir_img + nombre_img_src\n",
    "    path_img_dst = ''\n",
    "    if nombre_img_dst != None:\n",
    "        path_img_dst = path_dir_img + nombre_img_dst\n",
    "    output = subprocess.check_output([path_tp2, nombre_filtro, \"-i\", implementacion, path_img_src, path_img_dst])\n",
    "    return output.decode()\n",
    "\n",
    "def obtener_ciclos_totales(output):\n",
    "    start_index = output.find(\"ciclos insumidos totales\")\n",
    "    start_index = start_index + len(\"ciclos insumidos totales     : \")\n",
    "    end_index = output.find(\"\\n\", start_index, len(output))\n",
    "    return output[start_index:end_index]\n",
    "\n",
    "#parametros = [nombre_filtro, implementacion, nombre_img_src, nombre_img_dst]\n",
    "#datos = lista donde se guardan los datos\n",
    "def obtener_datos(parametros, repeticiones, datos):\n",
    "    for i in range(0, repeticiones):\n",
    "        #time.sleep(0.1) #Sleep 1 segundo (si es un float 0.1 son 100ms)\n",
    "        output = correr_filtro(parametros[0], parametros[1], parametros[2], parametros[3])\n",
    "        ciclos = obtener_ciclos_totales(output)\n",
    "        datos.append(int(ciclos))"
   ]
  },
  {
   "cell_type": "markdown",
   "metadata": {},
   "source": [
    "## Experimento 0: Comparación C/Asm"
   ]
  },
  {
   "cell_type": "markdown",
   "metadata": {},
   "source": [
    "#### Ocultar"
   ]
  },
  {
   "cell_type": "code",
   "execution_count": null,
   "metadata": {},
   "outputs": [],
   "source": [
    "repeticiones = 1000\n",
    "parametros_ocultar_asm = [\"Ocultar\", \"asm\", \"BladeRunner.bmp\", \"2001ASpaceOdyssey.bmp\"]\n",
    "parametros_ocultar_c = [\"Ocultar\", \"c\", \"BladeRunner.bmp\", \"2001ASpaceOdyssey.bmp\"]"
   ]
  },
  {
   "cell_type": "code",
   "execution_count": null,
   "metadata": {},
   "outputs": [],
   "source": [
    "datos_ocultar_asm = []\n",
    "obtener_datos(parametros_ocultar_asm, repeticiones, datos_ocultar_asm)\n",
    "pd.Series(datos_ocultar_asm).describe()"
   ]
  },
  {
   "cell_type": "code",
   "execution_count": null,
   "metadata": {},
   "outputs": [],
   "source": [
    "datos_ocultar_c_O0 = []\n",
    "obtener_datos(parametros_ocultar_c, repeticiones, datos_ocultar_c_O0)\n",
    "pd.Series(datos_ocultar_c_O0).describe()"
   ]
  },
  {
   "cell_type": "code",
   "execution_count": null,
   "metadata": {},
   "outputs": [],
   "source": [
    "datos_ocultar_c_O1 = []\n",
    "obtener_datos(parametros_ocultar_c, repeticiones, datos_ocultar_c_O1)\n",
    "pd.Series(datos_ocultar_c_O1).describe()"
   ]
  },
  {
   "cell_type": "code",
   "execution_count": null,
   "metadata": {},
   "outputs": [],
   "source": [
    "datos_ocultar_c_O2 = []\n",
    "obtener_datos(parametros_ocultar_c, repeticiones, datos_ocultar_c_O2)\n",
    "pd.Series(datos_ocultar_c_O2).describe()"
   ]
  },
  {
   "cell_type": "code",
   "execution_count": null,
   "metadata": {},
   "outputs": [],
   "source": [
    "datos_ocultar_c_O3 = []\n",
    "obtener_datos(parametros_ocultar_c, repeticiones, datos_ocultar_c_O3)\n",
    "pd.Series(datos_ocultar_c_O3).describe()"
   ]
  },
  {
   "cell_type": "code",
   "execution_count": null,
   "metadata": {},
   "outputs": [],
   "source": [
    "datos_ocultar_c_Os = []\n",
    "obtener_datos(parametros_ocultar_c, repeticiones, datos_ocultar_c_Os)\n",
    "pd.Series(datos_ocultar_c_Os).describe()"
   ]
  },
  {
   "cell_type": "code",
   "execution_count": null,
   "metadata": {},
   "outputs": [],
   "source": [
    "datos_ocultar_c_Ofast = []\n",
    "obtener_datos(parametros_ocultar_c, repeticiones, datos_ocultar_c_Ofast)\n",
    "pd.Series(datos_ocultar_c_Ofast).describe()"
   ]
  },
  {
   "cell_type": "code",
   "execution_count": null,
   "metadata": {},
   "outputs": [],
   "source": [
    "experimento_0_ocultar_df = pd.DataFrame({\n",
    "    'asm': datos_ocultar_asm,\n",
    "    'cO0': datos_ocultar_c_O0,\n",
    "    'cO1': datos_ocultar_c_O1,\n",
    "    'cO2': datos_ocultar_c_O2,\n",
    "    'cO3': datos_ocultar_c_O3,\n",
    "    'cOs': datos_ocultar_c_Os,\n",
    "    'cOfast': datos_ocultar_c_Ofast\n",
    "})"
   ]
  },
  {
   "cell_type": "code",
   "execution_count": null,
   "metadata": {},
   "outputs": [],
   "source": [
    "experimento_0_ocultar_df.to_pickle(\"experimento0_ocultar_df.pik\")"
   ]
  },
  {
   "cell_type": "markdown",
   "metadata": {},
   "source": [
    "#### Descubrir"
   ]
  },
  {
   "cell_type": "code",
   "execution_count": null,
   "metadata": {},
   "outputs": [],
   "source": [
    "repeticiones = 1000\n",
    "parametros_descubrir_asm = [\"Descubrir\", \"asm\", \"BladeRunner.bmp\", \"\"]\n",
    "parametros_descubrir_c = [\"Descubrir\", \"c\", \"BladeRunner.bmp\", \"\"]"
   ]
  },
  {
   "cell_type": "code",
   "execution_count": null,
   "metadata": {},
   "outputs": [],
   "source": [
    "datos_descubrir_asm = []\n",
    "obtener_datos(parametros_descubrir_asm, repeticiones, datos_descubrir_asm)\n",
    "pd.Series(datos_descubrir_asm).describe()"
   ]
  },
  {
   "cell_type": "code",
   "execution_count": null,
   "metadata": {},
   "outputs": [],
   "source": [
    "datos_descubrir_c_O0 = []\n",
    "obtener_datos(parametros_descubrir_c, repeticiones, datos_descubrir_c_O0)\n",
    "pd.Series(datos_descubrir_c_O0).describe()"
   ]
  },
  {
   "cell_type": "code",
   "execution_count": null,
   "metadata": {},
   "outputs": [],
   "source": [
    "datos_descubrir_c_O1 = []\n",
    "obtener_datos(parametros_descubrir_c, repeticiones, datos_descubrir_c_O1)\n",
    "pd.Series(datos_descubrir_c_O1).describe()"
   ]
  },
  {
   "cell_type": "code",
   "execution_count": null,
   "metadata": {},
   "outputs": [],
   "source": [
    "datos_descubrir_c_O2 = []\n",
    "obtener_datos(parametros_descubrir_c, repeticiones, datos_descubrir_c_O2)\n",
    "pd.Series(datos_descubrir_c_O2).describe()"
   ]
  },
  {
   "cell_type": "code",
   "execution_count": null,
   "metadata": {},
   "outputs": [],
   "source": [
    "datos_descubrir_c_O3 = []\n",
    "obtener_datos(parametros_descubrir_c, repeticiones, datos_descubrir_c_O3)\n",
    "pd.Series(datos_descubrir_c_O3).describe()"
   ]
  },
  {
   "cell_type": "code",
   "execution_count": null,
   "metadata": {},
   "outputs": [],
   "source": [
    "datos_descubrir_c_Os = []\n",
    "obtener_datos(parametros_descubrir_c, repeticiones, datos_descubrir_c_Os)\n",
    "pd.Series(datos_descubrir_c_Os).describe()"
   ]
  },
  {
   "cell_type": "code",
   "execution_count": null,
   "metadata": {},
   "outputs": [],
   "source": [
    "datos_descubrir_c_Ofast = []\n",
    "obtener_datos(parametros_descubrir_c, repeticiones, datos_descubrir_c_Ofast)\n",
    "pd.Series(datos_descubrir_c_Ofast).describe()"
   ]
  },
  {
   "cell_type": "code",
   "execution_count": null,
   "metadata": {},
   "outputs": [],
   "source": [
    "experimento_0_descubrir_df = pd.DataFrame({\n",
    "    'asm': datos_descubrir_asm,\n",
    "    'cO0': datos_descubrir_c_O0,\n",
    "    'cO1': datos_descubrir_c_O1,\n",
    "    'cO2': datos_descubrir_c_O2,\n",
    "    'cO3': datos_descubrir_c_O3,\n",
    "    'cOs': datos_descubrir_c_Os,\n",
    "    'cOfast': datos_descubrir_c_Ofast\n",
    "})"
   ]
  },
  {
   "cell_type": "code",
   "execution_count": null,
   "metadata": {},
   "outputs": [],
   "source": [
    "experimento_0_descubrir_df.to_pickle(\"experimento0_descubrir_df.pik\")"
   ]
  },
  {
   "cell_type": "markdown",
   "metadata": {},
   "source": [
    "#### Zigzag"
   ]
  },
  {
   "cell_type": "code",
   "execution_count": null,
   "metadata": {},
   "outputs": [],
   "source": [
    "repeticiones = 1000\n",
    "parametros_zigzag_asm = [\"Zigzag\", \"asm\", \"2001ASpaceOdyssey.bmp\", \"\"]\n",
    "parametros_zigzag_c = [\"Zigzag\", \"c\", \"2001ASpaceOdyssey.bmp\", \"\"]"
   ]
  },
  {
   "cell_type": "code",
   "execution_count": null,
   "metadata": {},
   "outputs": [],
   "source": [
    "datos_zigzag_asm = []\n",
    "obtener_datos(parametros_zigzag_asm, repeticiones, datos_zigzag_asm)\n",
    "pd.Series(datos_zigzag_asm).describe()"
   ]
  },
  {
   "cell_type": "code",
   "execution_count": null,
   "metadata": {},
   "outputs": [],
   "source": [
    "datos_zigzag_c_O0 = []\n",
    "obtener_datos(parametros_zigzag_c, repeticiones, datos_zigzag_c_O0)\n",
    "pd.Series(datos_zigzag_c_O0).describe()"
   ]
  },
  {
   "cell_type": "code",
   "execution_count": null,
   "metadata": {},
   "outputs": [],
   "source": [
    "datos_zigzag_c_O1 = []\n",
    "obtener_datos(parametros_zigzag_c, repeticiones, datos_zigzag_c_O1)\n",
    "pd.Series(datos_zigzag_c_O1).describe()"
   ]
  },
  {
   "cell_type": "code",
   "execution_count": null,
   "metadata": {},
   "outputs": [],
   "source": [
    "datos_zigzag_c_O2 = []\n",
    "obtener_datos(parametros_zigzag_c, repeticiones, datos_zigzag_c_O2)\n",
    "pd.Series(datos_zigzag_c_O2).describe()"
   ]
  },
  {
   "cell_type": "code",
   "execution_count": null,
   "metadata": {},
   "outputs": [],
   "source": [
    "datos_zigzag_c_O3 = []\n",
    "obtener_datos(parametros_zigzag_c, repeticiones, datos_zigzag_c_O3)\n",
    "pd.Series(datos_zigzag_c_O3).describe()"
   ]
  },
  {
   "cell_type": "code",
   "execution_count": null,
   "metadata": {},
   "outputs": [],
   "source": [
    "datos_zigzag_c_Os = []\n",
    "obtener_datos(parametros_zigzag_c, repeticiones, datos_zigzag_c_Os)\n",
    "pd.Series(datos_zigzag_c_Os).describe()"
   ]
  },
  {
   "cell_type": "code",
   "execution_count": null,
   "metadata": {},
   "outputs": [],
   "source": [
    "datos_zigzag_c_Ofast = []\n",
    "obtener_datos(parametros_zigzag_c, repeticiones, datos_zigzag_c_Ofast)\n",
    "pd.Series(datos_zigzag_c_Ofast).describe()"
   ]
  },
  {
   "cell_type": "code",
   "execution_count": null,
   "metadata": {},
   "outputs": [],
   "source": [
    "experimento_0_zigzag_df = pd.DataFrame({\n",
    "    'asm': datos_zigzag_asm,\n",
    "    'cO0': datos_zigzag_c_O0,\n",
    "    'cO1': datos_zigzag_c_O1,\n",
    "    'cO2': datos_zigzag_c_O2,\n",
    "    'cO3': datos_zigzag_c_O3,\n",
    "    'cOs': datos_zigzag_c_Os,\n",
    "    'cOfast': datos_zigzag_c_Ofast\n",
    "})"
   ]
  },
  {
   "cell_type": "code",
   "execution_count": null,
   "metadata": {},
   "outputs": [],
   "source": [
    "experimento_0_zigzag_df.to_pickle(\"experimento0_zigzag_df.pik\")"
   ]
  },
  {
   "cell_type": "markdown",
   "metadata": {},
   "source": [
    "### Análisis de los datos"
   ]
  },
  {
   "cell_type": "code",
   "execution_count": 13,
   "metadata": {},
   "outputs": [],
   "source": [
    "import numpy as np\n",
    "\n",
    "def sacar_outliers_por_columna(dataframe):\n",
    "    for col in dataframe.columns:\n",
    "        mean = dataframe[col].mean()\n",
    "        std = dataframe[col].std()\n",
    "        minimo = mean - (std * 3)\n",
    "        maximo = mean + (std * 3)\n",
    "        dataframe.loc[(dataframe[col] < minimo) | (dataframe[col] > maximo), col] = np.nan"
   ]
  },
  {
   "cell_type": "code",
   "execution_count": 14,
   "metadata": {},
   "outputs": [],
   "source": [
    "import matplotlib.pyplot as plt\n",
    "import seaborn as sns\n",
    "\n",
    "orden_cols = [\"asm\", \"cOfast\", \"cO3\", \"cO2\", \"cO1\", \"cOs\", \"cO0\"]\n",
    "\n",
    "def graficar_exp0(nombre_grafico, dataframe):\n",
    "    grafico, ax = plt.subplots(figsize=(8, 5))\n",
    "    sns.barplot(x='variable',y='value',data=dataframe.melt(), palette = \"deep\", order = orden_cols, ci='sd')\n",
    "    \n",
    "    ax.grid(color='black', linestyle='-', linewidth=0.5, axis='y')\n",
    "    ax.set_axisbelow(True)\n",
    "    ax.spines['right'].set_visible(False)\n",
    "    ax.spines['left'].set_visible(False)\n",
    "    ax.spines['top'].set_visible(False)\n",
    "    ax.yaxis.set_ticks_position('left')\n",
    "    ax.tick_params(axis=u'both', which=u'both', length=0, labelsize= 12)\n",
    "    \n",
    "    plt.xlabel('Implementación', fontsize=15)\n",
    "    plt.ylabel('Ciclos de clock', fontsize=15)\n",
    "    \n",
    "    grafico.savefig(nombre_grafico + '.png', dpi=300)"
   ]
  },
  {
   "cell_type": "markdown",
   "metadata": {},
   "source": [
    "#### Ocultar"
   ]
  },
  {
   "cell_type": "code",
   "execution_count": null,
   "metadata": {},
   "outputs": [],
   "source": [
    "experimento0_ocultar_df = pd.read_pickle('experimento0_ocultar_df.pik')"
   ]
  },
  {
   "cell_type": "code",
   "execution_count": null,
   "metadata": {},
   "outputs": [],
   "source": [
    "sacar_outliers_por_columna(experimento0_ocultar_df)"
   ]
  },
  {
   "cell_type": "code",
   "execution_count": null,
   "metadata": {},
   "outputs": [],
   "source": [
    "# Para chequear cantidad de rows quedaron luego de sacar outliers \n",
    "sum(experimento0_ocultar_df.asm.notnull())"
   ]
  },
  {
   "cell_type": "code",
   "execution_count": null,
   "metadata": {},
   "outputs": [],
   "source": [
    "graficar_exp0(\"exp0_ocultar\", experimento0_ocultar_df)"
   ]
  },
  {
   "cell_type": "code",
   "execution_count": null,
   "metadata": {},
   "outputs": [],
   "source": [
    "for col in experimento0_ocultar_df.columns:\n",
    "    print(col)\n",
    "    print('Media:', experimento0_ocultar_df[col].mean())\n",
    "    print('SD', experimento0_ocultar_df[col].std())"
   ]
  },
  {
   "cell_type": "code",
   "execution_count": null,
   "metadata": {},
   "outputs": [],
   "source": [
    "# Porcentaje de optimización de asm respecto de la mejor versión de C\n",
    "media_asm = experimento0_ocultar_df['asm'].mean()\n",
    "media_mejor_c = experimento0_ocultar_df['cO2'].mean()\n",
    "(media_asm - media_mejor_c)/media_mejor_c*100"
   ]
  },
  {
   "cell_type": "markdown",
   "metadata": {},
   "source": [
    "#### Descubrir"
   ]
  },
  {
   "cell_type": "code",
   "execution_count": null,
   "metadata": {},
   "outputs": [],
   "source": [
    "experimento0_descubrir_df = pd.read_pickle('experimento0_descubrir_df.pik')"
   ]
  },
  {
   "cell_type": "code",
   "execution_count": null,
   "metadata": {},
   "outputs": [],
   "source": [
    "sacar_outliers_por_columna(experimento0_descubrir_df)"
   ]
  },
  {
   "cell_type": "code",
   "execution_count": null,
   "metadata": {},
   "outputs": [],
   "source": [
    "sum(experimento_0_descubrir_df.cOfast.notnull())"
   ]
  },
  {
   "cell_type": "code",
   "execution_count": null,
   "metadata": {},
   "outputs": [],
   "source": [
    "graficar_exp0(\"exp0_descubrir\", experimento0_descubrir_df)"
   ]
  },
  {
   "cell_type": "code",
   "execution_count": null,
   "metadata": {},
   "outputs": [],
   "source": [
    "for col in experimento0_descubrir_df.columns:\n",
    "    print(col)\n",
    "    print('Media:', experimento0_descubrir_df[col].mean())\n",
    "    print('SD', experimento0_descubrir_df[col].std())"
   ]
  },
  {
   "cell_type": "code",
   "execution_count": null,
   "metadata": {},
   "outputs": [],
   "source": [
    "# Porcentaje de optimización de asm respecto de la mejor versión de C\n",
    "media_asm = experimento0_descubrir_df['asm'].mean()\n",
    "media_mejor_c = experimento0_descubrir_df['cO2'].mean()\n",
    "(media_asm - media_mejor_c)/media_mejor_c*100"
   ]
  },
  {
   "cell_type": "markdown",
   "metadata": {},
   "source": [
    "#### Zigzag"
   ]
  },
  {
   "cell_type": "code",
   "execution_count": null,
   "metadata": {},
   "outputs": [],
   "source": [
    "experimento0_zigzag_df = pd.read_pickle('experimento0_zigzag_df.pik')"
   ]
  },
  {
   "cell_type": "code",
   "execution_count": null,
   "metadata": {},
   "outputs": [],
   "source": [
    "sacar_outliers_por_columna(experimento0_zigzag_df)"
   ]
  },
  {
   "cell_type": "code",
   "execution_count": null,
   "metadata": {},
   "outputs": [],
   "source": [
    "graficar_exp0(\"exp0_zigzag\", experimento0_zigzag_df)"
   ]
  },
  {
   "cell_type": "code",
   "execution_count": null,
   "metadata": {},
   "outputs": [],
   "source": [
    "for col in experimento0_zigzag_df.columns:\n",
    "    print(col)\n",
    "    print('Media:', experimento0_zigzag_df[col].mean())\n",
    "    print('SD', experimento0_zigzag_df[col].std())"
   ]
  },
  {
   "cell_type": "code",
   "execution_count": null,
   "metadata": {},
   "outputs": [],
   "source": [
    "# Porcentaje de optimización de asm respecto de la mejor versión de C\n",
    "media_asm = experimento0_zigzag_df['asm'].mean()\n",
    "media_mejor_c = experimento0_zigzag_df['cO2'].mean()\n",
    "(media_asm - media_mejor_c)/media_mejor_c*100"
   ]
  },
  {
   "cell_type": "markdown",
   "metadata": {},
   "source": [
    "## Experimento 1: Desenrollar ciclos"
   ]
  },
  {
   "cell_type": "markdown",
   "metadata": {},
   "source": [
    "#### Ocultar"
   ]
  },
  {
   "cell_type": "code",
   "execution_count": null,
   "metadata": {},
   "outputs": [],
   "source": [
    "parametros_ocultar = [\"Ocultar\", \"asm\", \"Idiocracy.bmp\", \"Evolution.bmp\"]\n",
    "# Imagen de 1600 x 800\n",
    "repeticiones = 1000\n",
    "#origial 5.37, x2 5.35, x4 5.35, x8 5.40, x16 6.26"
   ]
  },
  {
   "cell_type": "code",
   "execution_count": null,
   "metadata": {},
   "outputs": [],
   "source": [
    "datos_ocultar_original = []\n",
    "obtener_datos(parametros_ocultar, repeticiones, datos_ocultar_original)\n",
    "pd.Series(datos_ocultar_original).describe()"
   ]
  },
  {
   "cell_type": "code",
   "execution_count": null,
   "metadata": {},
   "outputs": [],
   "source": [
    "datos_ocultar_x2 = []\n",
    "obtener_datos(parametros_ocultar, repeticiones, datos_ocultar_x2)\n",
    "pd.Series(datos_ocultar_x2).describe()"
   ]
  },
  {
   "cell_type": "code",
   "execution_count": null,
   "metadata": {},
   "outputs": [],
   "source": [
    "datos_ocultar_x4 = []\n",
    "obtener_datos(parametros_ocultar, repeticiones, datos_ocultar_x4)\n",
    "pd.Series(datos_ocultar_x4).describe()"
   ]
  },
  {
   "cell_type": "code",
   "execution_count": null,
   "metadata": {},
   "outputs": [],
   "source": [
    "datos_ocultar_x8 = []\n",
    "obtener_datos(parametros_ocultar, repeticiones, datos_ocultar_x8)\n",
    "pd.Series(datos_ocultar_x8).describe()"
   ]
  },
  {
   "cell_type": "code",
   "execution_count": null,
   "metadata": {},
   "outputs": [],
   "source": [
    "datos_ocultar_x16 = []\n",
    "obtener_datos(parametros_ocultar, repeticiones, datos_ocultar_x16)\n",
    "pd.Series(datos_ocultar_x16).describe()"
   ]
  },
  {
   "cell_type": "code",
   "execution_count": null,
   "metadata": {},
   "outputs": [],
   "source": [
    "experimento1_ocultar_df = pd.DataFrame({\n",
    "    'original': datos_ocultar_original,\n",
    "    'x2': datos_ocultar_x2,\n",
    "    'x4': datos_ocultar_x4,\n",
    "    'x8': datos_ocultar_x8,\n",
    "    'x16': datos_ocultar_x16\n",
    "})"
   ]
  },
  {
   "cell_type": "code",
   "execution_count": null,
   "metadata": {},
   "outputs": [],
   "source": [
    "experimento1_ocultar_df.to_pickle(\"experimento1_ocultar_df.pik\")"
   ]
  },
  {
   "cell_type": "markdown",
   "metadata": {},
   "source": [
    "#### Descubrir"
   ]
  },
  {
   "cell_type": "code",
   "execution_count": null,
   "metadata": {},
   "outputs": [],
   "source": [
    "parametros_descubrir = [\"Descubrir\", \"asm\", \"IdiocracyDescubrir.bmp\", \"\"]\n",
    "# Imagen de 1600 x 800\n",
    "repeticiones = 1000\n",
    "# original 4.21, x2 4.17, x4 4.16 x8 4.20, x16 5.04"
   ]
  },
  {
   "cell_type": "code",
   "execution_count": null,
   "metadata": {},
   "outputs": [],
   "source": [
    "datos_descubrir_original = []\n",
    "obtener_datos(parametros_descubrir, repeticiones, datos_descubrir_original)\n",
    "pd.Series(datos_descubrir_original).describe()"
   ]
  },
  {
   "cell_type": "code",
   "execution_count": null,
   "metadata": {},
   "outputs": [],
   "source": [
    "datos_descubrir_x2 = []\n",
    "obtener_datos(parametros_descubrir, repeticiones, datos_descubrir_x2)\n",
    "pd.Series(datos_descubrir_x2).describe()"
   ]
  },
  {
   "cell_type": "code",
   "execution_count": null,
   "metadata": {},
   "outputs": [],
   "source": [
    "datos_descubrir_x4 = []\n",
    "obtener_datos(parametros_descubrir, repeticiones, datos_descubrir_x4)\n",
    "pd.Series(datos_descubrir_x4).describe()"
   ]
  },
  {
   "cell_type": "code",
   "execution_count": null,
   "metadata": {},
   "outputs": [],
   "source": [
    "datos_descubrir_x8 = []\n",
    "obtener_datos(parametros_descubrir, repeticiones, datos_descubrir_x8)\n",
    "pd.Series(datos_descubrir_x8).describe()"
   ]
  },
  {
   "cell_type": "code",
   "execution_count": null,
   "metadata": {},
   "outputs": [],
   "source": [
    "datos_descubrir_x16 = []\n",
    "obtener_datos(parametros_descubrir, repeticiones, datos_descubrir_x16)\n",
    "pd.Series(datos_descubrir_x16).describe()"
   ]
  },
  {
   "cell_type": "code",
   "execution_count": null,
   "metadata": {},
   "outputs": [],
   "source": [
    "experimento1_descubrir_df = pd.DataFrame({\n",
    "    'original': datos_descubrir_original,\n",
    "    'x2': datos_descubrir_x2,\n",
    "    'x4': datos_descubrir_x4,\n",
    "    'x8': datos_descubrir_x8,\n",
    "    'x16': datos_descubrir_x16\n",
    "})"
   ]
  },
  {
   "cell_type": "code",
   "execution_count": null,
   "metadata": {},
   "outputs": [],
   "source": [
    "experimento1_descubrir_df.to_pickle(\"experimento1_descubrir_df.pik\")"
   ]
  },
  {
   "cell_type": "markdown",
   "metadata": {},
   "source": [
    "#### Zigzag"
   ]
  },
  {
   "cell_type": "code",
   "execution_count": null,
   "metadata": {},
   "outputs": [],
   "source": [
    "parametros_zigzag = [\"Zigzag\", \"asm\", \"Idiocracy.bmp\", \"\"]\n",
    "# Imagen de 1600 x 800\n",
    "repeticiones = 1000\n",
    "# original 5.45-5.4247, expandido 5.40-5.44, x2 5.42-5.4589, x4 5.41-5.4516,x8 5.42-5.50"
   ]
  },
  {
   "cell_type": "code",
   "execution_count": null,
   "metadata": {},
   "outputs": [],
   "source": [
    "datos_zigzag_original = []\n",
    "obtener_datos(parametros_zigzag, repeticiones, datos_zigzag_original)\n",
    "pd.Series(datos_zigzag_original).describe()"
   ]
  },
  {
   "cell_type": "code",
   "execution_count": null,
   "metadata": {},
   "outputs": [],
   "source": [
    "datos_zigzag_expandido = []\n",
    "obtener_datos(parametros_zigzag, repeticiones, datos_zigzag_expandido)\n",
    "pd.Series(datos_zigzag_expandido).describe()"
   ]
  },
  {
   "cell_type": "code",
   "execution_count": null,
   "metadata": {},
   "outputs": [],
   "source": [
    "datos_zigzag_x2 = []\n",
    "obtener_datos(parametros_zigzag, repeticiones, datos_zigzag_x2)\n",
    "pd.Series(datos_zigzag_x2).describe()"
   ]
  },
  {
   "cell_type": "code",
   "execution_count": null,
   "metadata": {},
   "outputs": [],
   "source": [
    "datos_zigzag_x4 = []\n",
    "obtener_datos(parametros_zigzag, repeticiones, datos_zigzag_x4)\n",
    "pd.Series(datos_zigzag_x4).describe()"
   ]
  },
  {
   "cell_type": "code",
   "execution_count": null,
   "metadata": {},
   "outputs": [],
   "source": [
    "datos_zigzag_x8 = []\n",
    "obtener_datos(parametros_zigzag, repeticiones, datos_zigzag_x8)\n",
    "pd.Series(datos_zigzag_x8).describe()"
   ]
  },
  {
   "cell_type": "code",
   "execution_count": null,
   "metadata": {},
   "outputs": [],
   "source": [
    "datos_zigzag_ciclosinternosx2 = []\n",
    "obtener_datos(parametros_zigzag, repeticiones, datos_zigzag_ciclosinternosx2)\n",
    "pd.Series(datos_zigzag_ciclosinternosx2).describe()"
   ]
  },
  {
   "cell_type": "code",
   "execution_count": null,
   "metadata": {},
   "outputs": [],
   "source": [
    "datos_zigzag_ciclosinternosx4 = []\n",
    "obtener_datos(parametros_zigzag, repeticiones, datos_zigzag_ciclosinternosx4)\n",
    "pd.Series(datos_zigzag_ciclosinternosx4).describe()"
   ]
  },
  {
   "cell_type": "code",
   "execution_count": null,
   "metadata": {},
   "outputs": [],
   "source": [
    "experimento1_zigzag_df = pd.DataFrame({\n",
    "    'original': datos_zigzag_original,\n",
    "    'expandido': datos_zigzag_expandido,\n",
    "    'x2': datos_zigzag_x2,\n",
    "    'x4': datos_zigzag_x4,\n",
    "    'x8': datos_zigzag_x8,\n",
    "    'ciclosinternosx2': datos_zigzag_ciclosinternosx2,\n",
    "    'ciclosinternosx4': datos_zigzag_ciclosinternosx4\n",
    "})"
   ]
  },
  {
   "cell_type": "code",
   "execution_count": null,
   "metadata": {},
   "outputs": [],
   "source": [
    "experimento1_zigzag_df.to_pickle(\"experimento1_zigzag_df.pik\")"
   ]
  },
  {
   "cell_type": "markdown",
   "metadata": {},
   "source": [
    "### Análisis de los datos"
   ]
  },
  {
   "cell_type": "code",
   "execution_count": null,
   "metadata": {},
   "outputs": [],
   "source": [
    "experimento1_ocultar_df = pd.read_pickle('experimento1_ocultar_df.pik')"
   ]
  },
  {
   "cell_type": "code",
   "execution_count": null,
   "metadata": {},
   "outputs": [],
   "source": [
    "sacar_outliers_por_columna(experimento1_ocultar_df)"
   ]
  },
  {
   "cell_type": "code",
   "execution_count": null,
   "metadata": {},
   "outputs": [],
   "source": [
    "# Para chequear cantidad de rows quedaron luego de sacar outliers \n",
    "sum(experimento1_ocultar_df.x16.notnull())"
   ]
  },
  {
   "cell_type": "code",
   "execution_count": 15,
   "metadata": {},
   "outputs": [],
   "source": [
    "def graficar_exp1(nombre_grafico, dataframe):\n",
    "    grafico, ax = plt.subplots(figsize=(8, 5))\n",
    "    sns.barplot(x='variable',y='value',data=dataframe.melt(), palette = \"deep\", ci=\"sd\")\n",
    "    \n",
    "    ax.grid(color='black', linestyle='-', linewidth=0.5, axis='y')\n",
    "    ax.set_axisbelow(True)\n",
    "    ax.spines['right'].set_visible(False)\n",
    "    ax.spines['left'].set_visible(False)\n",
    "    ax.spines['top'].set_visible(False)\n",
    "    ax.yaxis.set_ticks_position('left')\n",
    "    ax.tick_params(axis=u'both', which=u'both', length=0, labelsize= 12)\n",
    "    \n",
    "    plt.xlabel('Implementación', fontsize=15)\n",
    "    plt.ylabel('Ciclos de clock', fontsize=15)\n",
    "    \n",
    "    grafico.savefig(nombre_grafico + '.png', dpi=300)"
   ]
  },
  {
   "cell_type": "code",
   "execution_count": null,
   "metadata": {},
   "outputs": [],
   "source": [
    "graficar_exp1(\"exp1_ocultar\", experimento1_ocultar_df)"
   ]
  },
  {
   "cell_type": "code",
   "execution_count": null,
   "metadata": {},
   "outputs": [],
   "source": [
    "for col in experimento1_ocultar_df.columns:\n",
    "    print(col)\n",
    "    print('Media:', experimento1_ocultar_df[col].mean())\n",
    "    print('SD', experimento1_ocultar_df[col].std())"
   ]
  },
  {
   "cell_type": "code",
   "execution_count": null,
   "metadata": {},
   "outputs": [],
   "source": [
    "# Porcentaje de optimización de la mejor versión respecto de la original\n",
    "media_original = experimento1_ocultar_df['original'].mean()\n",
    "media_mejor = experimento1_ocultar_df['x4'].mean()\n",
    "(media_mejor - media_original)/media_original*100"
   ]
  },
  {
   "cell_type": "code",
   "execution_count": null,
   "metadata": {},
   "outputs": [],
   "source": [
    "experimento1_descubrir_df = pd.read_pickle('experimento1_descubrir_df.pik')"
   ]
  },
  {
   "cell_type": "code",
   "execution_count": null,
   "metadata": {},
   "outputs": [],
   "source": [
    "sacar_outliers_por_columna(experimento1_descubrir_df)"
   ]
  },
  {
   "cell_type": "code",
   "execution_count": null,
   "metadata": {},
   "outputs": [],
   "source": [
    "# Para chequear cantidad de rows quedaron luego de sacar outliers \n",
    "sum(experimento1_descubrir_df.x16.notnull())"
   ]
  },
  {
   "cell_type": "code",
   "execution_count": null,
   "metadata": {},
   "outputs": [],
   "source": [
    "graficar_exp1(\"exp1_descubrir\", experimento1_descubrir_df)"
   ]
  },
  {
   "cell_type": "code",
   "execution_count": null,
   "metadata": {},
   "outputs": [],
   "source": [
    "for col in experimento1_descubrir_df.columns:\n",
    "    print(col)\n",
    "    print('Media:', experimento1_descubrir_df[col].mean())\n",
    "    print('SD', experimento1_descubrir_df[col].std())"
   ]
  },
  {
   "cell_type": "code",
   "execution_count": null,
   "metadata": {},
   "outputs": [],
   "source": [
    "# Porcentaje de optimización de la mejor versión respecto de la original\n",
    "media_original = experimento1_descubrir_df['original'].mean()\n",
    "media_mejor = experimento1_descubrir_df['x2'].mean()\n",
    "(media_mejor - media_original)/media_original*100"
   ]
  },
  {
   "cell_type": "code",
   "execution_count": null,
   "metadata": {},
   "outputs": [],
   "source": [
    "experimento1_zigzag_df = pd.read_pickle('experimento1_zigzag_df.pik')"
   ]
  },
  {
   "cell_type": "code",
   "execution_count": null,
   "metadata": {},
   "outputs": [],
   "source": [
    "sacar_outliers_por_columna(experimento1_zigzag_df)"
   ]
  },
  {
   "cell_type": "code",
   "execution_count": null,
   "metadata": {},
   "outputs": [],
   "source": [
    "def graficar_wide(nombre_grafico, dataframe):\n",
    "    grafico, ax = plt.subplots(figsize=(14, 5))\n",
    "    sns.barplot(x='variable',y='value',data=dataframe.melt(), palette = \"deep\", ci=\"sd\")\n",
    "    \n",
    "    ax.grid(color='black', linestyle='-', linewidth=0.5, axis='y')\n",
    "    ax.set_axisbelow(True)\n",
    "    ax.spines['right'].set_visible(False)\n",
    "    ax.spines['left'].set_visible(False)\n",
    "    ax.spines['top'].set_visible(False)\n",
    "    ax.yaxis.set_ticks_position('left')\n",
    "    ax.tick_params(axis=u'both', which=u'both', length=0, labelsize= 12)\n",
    "    \n",
    "    plt.xlabel('Implementación', fontsize=15)\n",
    "    plt.ylabel('Ciclos de clock', fontsize=15)\n",
    "    \n",
    "    grafico.savefig(nombre_grafico + '.png', dpi=300)"
   ]
  },
  {
   "cell_type": "code",
   "execution_count": null,
   "metadata": {},
   "outputs": [],
   "source": [
    "graficar_wide(\"exp1_zigzag\", experimento1_zigzag_df)"
   ]
  },
  {
   "cell_type": "code",
   "execution_count": null,
   "metadata": {},
   "outputs": [],
   "source": [
    "for col in experimento1_zigzag_df.columns:\n",
    "    print(col)\n",
    "    print('Media:', experimento1_zigzag_df[col].mean())\n",
    "    print('SD', experimento1_zigzag_df[col].std())"
   ]
  },
  {
   "cell_type": "code",
   "execution_count": null,
   "metadata": {},
   "outputs": [],
   "source": [
    "# Porcentaje de optimización de la mejor versión respecto de la original\n",
    "media_original = experimento1_zigzag_df['original'].mean()\n",
    "media_mejor = experimento1_zigzag_df['ciclosinternosx2'].mean()\n",
    "(media_mejor - media_original)/media_original*100"
   ]
  },
  {
   "cell_type": "markdown",
   "metadata": {},
   "source": [
    "### Experimento 2: 8px vs 16px en Ocultar y Descubrir"
   ]
  },
  {
   "cell_type": "code",
   "execution_count": null,
   "metadata": {},
   "outputs": [],
   "source": [
    "parametros_ocultar = [\"Ocultar\", \"asm\", \"BladeRunner.bmp\", \"2001ASpaceOdyssey.bmp\"]\n",
    "repeticiones = 1000"
   ]
  },
  {
   "cell_type": "code",
   "execution_count": null,
   "metadata": {},
   "outputs": [],
   "source": [
    "datos_ocultar_8px = []\n",
    "obtener_datos(parametros_ocultar, repeticiones, datos_ocultar_8px)\n",
    "pd.Series(datos_ocultar_8px).describe()"
   ]
  },
  {
   "cell_type": "code",
   "execution_count": null,
   "metadata": {},
   "outputs": [],
   "source": [
    "datos_ocultar_16px = []\n",
    "obtener_datos(parametros_ocultar, repeticiones, datos_ocultar_16px)\n",
    "pd.Series(datos_ocultar_16px).describe()"
   ]
  },
  {
   "cell_type": "code",
   "execution_count": null,
   "metadata": {},
   "outputs": [],
   "source": [
    "experimento2_ocultar_8v16_df = pd.DataFrame({\n",
    "    '8px': datos_ocultar_8px,\n",
    "    '16px': datos_ocultar_16px\n",
    "})"
   ]
  },
  {
   "cell_type": "code",
   "execution_count": null,
   "metadata": {},
   "outputs": [],
   "source": [
    "experimento2_ocultar_8v16_df.to_pickle(\"experimento2_ocultar_8v16.pik\")"
   ]
  },
  {
   "cell_type": "code",
   "execution_count": null,
   "metadata": {},
   "outputs": [],
   "source": [
    "parametros_descubrir = [\"Descubrir\", \"asm\", \"BladeRunnerDescubrir.bmp\", \"\"]\n",
    "repeticiones = 1000"
   ]
  },
  {
   "cell_type": "code",
   "execution_count": null,
   "metadata": {},
   "outputs": [],
   "source": [
    "datos_descubrir_8px = []\n",
    "obtener_datos(parametros_descubrir, repeticiones, datos_descubrir_8px)\n",
    "pd.Series(datos_descubrir_8px).describe()"
   ]
  },
  {
   "cell_type": "code",
   "execution_count": null,
   "metadata": {},
   "outputs": [],
   "source": [
    "datos_descubrir_16px = []\n",
    "obtener_datos(parametros_descubrir, repeticiones, datos_descubrir_16px)\n",
    "pd.Series(datos_descubrir_16px).describe()"
   ]
  },
  {
   "cell_type": "code",
   "execution_count": null,
   "metadata": {},
   "outputs": [],
   "source": [
    "experimento2_descubrir_8v16_df = pd.DataFrame({\n",
    "    '8px': datos_descubrir_8px,\n",
    "    '16px': datos_descubrir_16px\n",
    "})"
   ]
  },
  {
   "cell_type": "code",
   "execution_count": null,
   "metadata": {},
   "outputs": [],
   "source": [
    "experimento2_descubrir_8v16_df.to_pickle(\"experimento2_descubrir_8v16.pik\")"
   ]
  },
  {
   "cell_type": "markdown",
   "metadata": {},
   "source": [
    "### Análisis de los datos"
   ]
  },
  {
   "cell_type": "code",
   "execution_count": null,
   "metadata": {},
   "outputs": [],
   "source": [
    "def graficar_exp2(nombre_grafico, dataframe):\n",
    "    grafico, ax = plt.subplots(figsize=(4, 5))\n",
    "    sns.barplot(x='variable',y='value',data=dataframe.melt(), palette = \"deep\", ci=\"sd\")\n",
    "    \n",
    "    ax.grid(color='black', linestyle='-', linewidth=0.5, axis='y')\n",
    "    ax.set_axisbelow(True)\n",
    "    ax.spines['right'].set_visible(False)\n",
    "    ax.spines['left'].set_visible(False)\n",
    "    ax.spines['top'].set_visible(False)\n",
    "    ax.yaxis.set_ticks_position('left')\n",
    "    ax.tick_params(axis=u'both', which=u'both', length=0, labelsize= 12)\n",
    "    \n",
    "    plt.xlabel('Implementación', fontsize=15)\n",
    "    plt.ylabel('Ciclos de clock', fontsize=15)\n",
    "    \n",
    "    grafico.savefig(nombre_grafico + '.png', dpi=300)"
   ]
  },
  {
   "cell_type": "code",
   "execution_count": null,
   "metadata": {},
   "outputs": [],
   "source": [
    "experimento2_ocultar_df = pd.read_pickle(\"experimento2_ocultar_df.pik\")"
   ]
  },
  {
   "cell_type": "code",
   "execution_count": null,
   "metadata": {},
   "outputs": [],
   "source": [
    "sacar_outliers_por_columna(experimento2_ocultar_df)"
   ]
  },
  {
   "cell_type": "code",
   "execution_count": null,
   "metadata": {},
   "outputs": [],
   "source": [
    "experimento2_descubrir_df = pd.read_pickle(\"experimento2_descubrir_df.pik\")"
   ]
  },
  {
   "cell_type": "code",
   "execution_count": null,
   "metadata": {},
   "outputs": [],
   "source": [
    "sacar_outliers_por_columna(experimento2_descubrir_df)"
   ]
  },
  {
   "cell_type": "code",
   "execution_count": null,
   "metadata": {},
   "outputs": [],
   "source": [
    "graficar_exp2(\"exp2_ocultar\", experimento2_ocultar_df)"
   ]
  },
  {
   "cell_type": "code",
   "execution_count": null,
   "metadata": {},
   "outputs": [],
   "source": [
    "for col in experimento2_ocultar_df.columns:\n",
    "    print(col)\n",
    "    print('Media:', experimento2_ocultar_df[col].mean())\n",
    "    print('SD', experimento2_ocultar_df[col].std())"
   ]
  },
  {
   "cell_type": "code",
   "execution_count": null,
   "metadata": {},
   "outputs": [],
   "source": [
    "# Porcentaje de optimización de la mejor versión respecto de la original\n",
    "media_original = experimento2_ocultar_df['8px'].mean()\n",
    "media_mejor = experimento2_ocultar_df['16px'].mean()\n",
    "(media_mejor - media_original)/media_original*100"
   ]
  },
  {
   "cell_type": "code",
   "execution_count": null,
   "metadata": {},
   "outputs": [],
   "source": [
    "graficar_exp2(\"exp2_descubrir\", experimento2_descubrir_8v16_df)"
   ]
  },
  {
   "cell_type": "code",
   "execution_count": null,
   "metadata": {},
   "outputs": [],
   "source": [
    "for col in experimento2_descubrir_df.columns:\n",
    "    print(col)\n",
    "    print('Media:', experimento2_descubrir_df[col].mean())\n",
    "    print('SD', experimento2_descubrir_df[col].std())"
   ]
  },
  {
   "cell_type": "code",
   "execution_count": null,
   "metadata": {},
   "outputs": [],
   "source": [
    "# Porcentaje de optimización de la mejor versión respecto de la original\n",
    "media_original = experimento2_descubrir_df['8px'].mean()\n",
    "media_mejor = experimento2_descubrir_df['16px'].mean()\n",
    "(media_mejor - media_original)/media_original*100"
   ]
  },
  {
   "cell_type": "markdown",
   "metadata": {},
   "source": [
    "### Experimento 3: Optimizaciones de los accesos a memoria"
   ]
  },
  {
   "cell_type": "markdown",
   "metadata": {},
   "source": [
    "#### Ocultar"
   ]
  },
  {
   "cell_type": "code",
   "execution_count": null,
   "metadata": {},
   "outputs": [],
   "source": [
    "parametros_ocultar_asm = [\"Ocultar\", \"asm\", \"BladeRunner.bmp\", \"2001ASpaceOdyssey.bmp\"]\n",
    "repeticiones = 1000"
   ]
  },
  {
   "cell_type": "code",
   "execution_count": null,
   "metadata": {},
   "outputs": [],
   "source": [
    "datos_ocultar_movdqu = []\n",
    "obtener_datos(parametros_ocultar, repeticiones, datos_ocultar_movdqu)\n",
    "pd.Series(datos_ocultar_movdqu).describe()"
   ]
  },
  {
   "cell_type": "code",
   "execution_count": null,
   "metadata": {},
   "outputs": [],
   "source": [
    "datos_ocultar_movdqa = []\n",
    "obtener_datos(parametros_ocultar, repeticiones, datos_ocultar_movdqa)\n",
    "pd.Series(datos_ocultar_movdqa).describe()"
   ]
  },
  {
   "cell_type": "code",
   "execution_count": null,
   "metadata": {},
   "outputs": [],
   "source": [
    "datos_ocultar_movntdq = []\n",
    "obtener_datos(parametros_ocultar, repeticiones, datos_ocultar_movntdq)\n",
    "pd.Series(datos_ocultar_movntdq).describe()"
   ]
  },
  {
   "cell_type": "code",
   "execution_count": null,
   "metadata": {},
   "outputs": [],
   "source": [
    "datos_ocultar_movntdq_movntdqa = []\n",
    "obtener_datos(parametros_ocultar, repeticiones, datos_ocultar_movntdq_movntdqa)\n",
    "pd.Series(datos_ocultar_movntdq_movntdqa).describe()"
   ]
  },
  {
   "cell_type": "code",
   "execution_count": null,
   "metadata": {},
   "outputs": [],
   "source": [
    "experimento3_ocultar_df = pd.DataFrame({\n",
    "    'movdqu': datos_ocultar_movdqu,\n",
    "    'movdqa': datos_ocultar_movdqa,\n",
    "    'movntdq': datos_ocultar_movntdq,\n",
    "    'movntdqa': datos_ocultar_movntdq_movntdqa\n",
    "})"
   ]
  },
  {
   "cell_type": "code",
   "execution_count": null,
   "metadata": {},
   "outputs": [],
   "source": [
    "experimento3_ocultar_df.to_pickle(\"experimento3_ocultar.pik\")"
   ]
  },
  {
   "cell_type": "markdown",
   "metadata": {},
   "source": [
    "#### Descubrir"
   ]
  },
  {
   "cell_type": "code",
   "execution_count": 2,
   "metadata": {},
   "outputs": [],
   "source": [
    "parametros_descubrir = [\"Descubrir\", \"asm\", \"BladeRunnerDescubrir.bmp\", \"\"]\n",
    "repeticiones = 1000"
   ]
  },
  {
   "cell_type": "code",
   "execution_count": 8,
   "metadata": {},
   "outputs": [
    {
     "data": {
      "text/plain": [
       "count    1.000000e+03\n",
       "mean     1.079941e+06\n",
       "std      2.876566e+05\n",
       "min      9.246590e+05\n",
       "25%      9.835668e+05\n",
       "50%      1.008055e+06\n",
       "75%      1.119075e+06\n",
       "max      5.617276e+06\n",
       "dtype: float64"
      ]
     },
     "execution_count": 8,
     "metadata": {},
     "output_type": "execute_result"
    }
   ],
   "source": [
    "datos_descubrir_movdqu = []\n",
    "obtener_datos(parametros_descubrir, repeticiones, datos_descubrir_movdqu)\n",
    "pd.Series(datos_descubrir_movdqu).describe()"
   ]
  },
  {
   "cell_type": "code",
   "execution_count": 5,
   "metadata": {},
   "outputs": [
    {
     "data": {
      "text/plain": [
       "count    1.000000e+03\n",
       "mean     1.097356e+06\n",
       "std      2.889821e+05\n",
       "min      9.257010e+05\n",
       "25%      9.846312e+05\n",
       "50%      1.025322e+06\n",
       "75%      1.124409e+06\n",
       "max      5.464212e+06\n",
       "dtype: float64"
      ]
     },
     "execution_count": 5,
     "metadata": {},
     "output_type": "execute_result"
    }
   ],
   "source": [
    "datos_descubrir_movdqa = []\n",
    "obtener_datos(parametros_descubrir, repeticiones, datos_descubrir_movdqa)\n",
    "pd.Series(datos_descubrir_movdqa).describe()"
   ]
  },
  {
   "cell_type": "code",
   "execution_count": 4,
   "metadata": {},
   "outputs": [
    {
     "data": {
      "text/plain": [
       "count    1.000000e+03\n",
       "mean     1.080940e+06\n",
       "std      1.834791e+05\n",
       "min      9.563860e+05\n",
       "25%      9.987135e+05\n",
       "50%      1.021631e+06\n",
       "75%      1.121575e+06\n",
       "max      3.051283e+06\n",
       "dtype: float64"
      ]
     },
     "execution_count": 4,
     "metadata": {},
     "output_type": "execute_result"
    }
   ],
   "source": [
    "datos_descubrir_movntdq = []\n",
    "obtener_datos(parametros_descubrir, repeticiones, datos_descubrir_movntdq)\n",
    "pd.Series(datos_descubrir_movntdq).describe()"
   ]
  },
  {
   "cell_type": "code",
   "execution_count": 3,
   "metadata": {},
   "outputs": [
    {
     "data": {
      "text/plain": [
       "count    1.000000e+03\n",
       "mean     1.103110e+06\n",
       "std      2.356380e+05\n",
       "min      9.456680e+05\n",
       "25%      9.962145e+05\n",
       "50%      1.040244e+06\n",
       "75%      1.138644e+06\n",
       "max      4.191252e+06\n",
       "dtype: float64"
      ]
     },
     "execution_count": 3,
     "metadata": {},
     "output_type": "execute_result"
    }
   ],
   "source": [
    "datos_descubrir_movntdq_movntdqa = []\n",
    "obtener_datos(parametros_descubrir, repeticiones, datos_descubrir_movntdq_movntdqa)\n",
    "pd.Series(datos_descubrir_movntdq_movntdqa).describe()"
   ]
  },
  {
   "cell_type": "code",
   "execution_count": 9,
   "metadata": {},
   "outputs": [],
   "source": [
    "experimento3_descubrir_df = pd.DataFrame({\n",
    "    'movdqu': datos_descubrir_movdqu,\n",
    "    'movdqa': datos_descubrir_movdqa,\n",
    "    'movntdq': datos_descubrir_movntdq,\n",
    "    'movntdqa': datos_descubrir_movntdq_movntdqa\n",
    "})"
   ]
  },
  {
   "cell_type": "code",
   "execution_count": 10,
   "metadata": {},
   "outputs": [],
   "source": [
    "experimento3_descubrir_df.to_pickle(\"experimento3_descubrir.pik\")"
   ]
  },
  {
   "cell_type": "markdown",
   "metadata": {},
   "source": [
    "### Análisis de los datos"
   ]
  },
  {
   "cell_type": "code",
   "execution_count": 18,
   "metadata": {},
   "outputs": [],
   "source": [
    "experimento3_ocultar_df = pd.read_pickle(\"experimento3_ocultar_df.pik\")"
   ]
  },
  {
   "cell_type": "code",
   "execution_count": 19,
   "metadata": {},
   "outputs": [],
   "source": [
    "sacar_outliers_por_columna(experimento3_ocultar_df)"
   ]
  },
  {
   "cell_type": "code",
   "execution_count": 20,
   "metadata": {},
   "outputs": [
    {
     "data": {
      "image/png": "[encoded data removed]",
      "text/plain": [
       "<Figure size 576x360 with 1 Axes>"
      ]
     },
     "metadata": {
      "needs_background": "light"
     },
     "output_type": "display_data"
    }
   ],
   "source": [
    "graficar_exp1(\"exp3_ocultar\", experimento3_ocultar_df)"
   ]
  },
  {
   "cell_type": "code",
   "execution_count": 21,
   "metadata": {},
   "outputs": [
    {
     "data": {
      "text/plain": [
       "-14.123821060046904"
      ]
     },
     "execution_count": 21,
     "metadata": {},
     "output_type": "execute_result"
    }
   ],
   "source": [
    "# Porcentaje de optimización de la mejor versión respecto de la original\n",
    "media_original = experimento3_ocultar_df['movdqa'].mean()\n",
    "media_mejor = experimento3_ocultar_df['movntdqa'].mean()\n",
    "(media_mejor - media_original)/media_original*100"
   ]
  },
  {
   "cell_type": "code",
   "execution_count": 11,
   "metadata": {},
   "outputs": [],
   "source": [
    "experimento3_descubrir_df = pd.read_pickle(\"experimento3_descubrir.pik\")"
   ]
  },
  {
   "cell_type": "code",
   "execution_count": 23,
   "metadata": {},
   "outputs": [],
   "source": [
    "sacar_outliers_por_columna(experimento3_descubrir_df)"
   ]
  },
  {
   "cell_type": "code",
   "execution_count": 24,
   "metadata": {},
   "outputs": [
    {
     "data": {
      "image/png": "[encoded data removed]",
      "text/plain": [
       "<Figure size 576x360 with 1 Axes>"
      ]
     },
     "metadata": {
      "needs_background": "light"
     },
     "output_type": "display_data"
    }
   ],
   "source": [
    "graficar_exp1(\"exp3_descubrir\", experimento3_descubrir_df)"
   ]
  },
  {
   "cell_type": "code",
   "execution_count": 25,
   "metadata": {},
   "outputs": [
    {
     "name": "stdout",
     "output_type": "stream",
     "text": [
      "movdqu\n",
      "Media: 1046918.0308324769\n",
      "SD 89295.55534460561\n",
      "movdqa\n",
      "Media: 1054689.3126293996\n",
      "SD 94581.61013163078\n",
      "movntdq\n",
      "Media: 1057098.112371134\n",
      "SD 72609.6831038565\n",
      "movntdqa\n",
      "Media: 1069509.0341968911\n",
      "SD 88963.32114569262\n"
     ]
    }
   ],
   "source": [
    "for col in experimento3_descubrir_df.columns:\n",
    "    print(col)\n",
    "    print('Media:', experimento3_descubrir_df[col].mean())\n",
    "    print('SD', experimento3_descubrir_df[col].std())"
   ]
  },
  {
   "cell_type": "code",
   "execution_count": 28,
   "metadata": {},
   "outputs": [
    {
     "data": {
      "text/plain": [
       "-0.7368313781001946"
      ]
     },
     "execution_count": 28,
     "metadata": {},
     "output_type": "execute_result"
    }
   ],
   "source": [
    "# Porcentaje de optimización de la mejor versión respecto de la original\n",
    "media_original = experimento3_descubrir_df['movdqa'].mean()\n",
    "media_mejor = experimento3_descubrir_df['movdqu'].mean()\n",
    "(media_mejor - media_original)/media_original*100"
   ]
  },
  {
   "cell_type": "markdown",
   "metadata": {},
   "source": [
    "### Experimentos extra: Optimizaciones en la elección de instrucciones en Zigzag"
   ]
  },
  {
   "cell_type": "code",
   "execution_count": null,
   "metadata": {},
   "outputs": [],
   "source": [
    "#Zigzag\n",
    "parametros_zigzag = [\"Zigzag\", \"asm\", \"Idiocracy.bmp\", \"\"]\n",
    "# Imagen de 1600 x 800\n",
    "repeticiones = 1000"
   ]
  },
  {
   "cell_type": "code",
   "execution_count": null,
   "metadata": {},
   "outputs": [],
   "source": [
    "datos_zigzag_expandido = []\n",
    "obtener_datos(parametros_zigzag, repeticiones, datos_zigzag_expandido)\n",
    "pd.Series(datos_zigzag_expandido).describe()"
   ]
  },
  {
   "cell_type": "code",
   "execution_count": null,
   "metadata": {},
   "outputs": [],
   "source": [
    "datos_zigzag_sinmul = []\n",
    "obtener_datos(parametros_zigzag, repeticiones, datos_zigzag_sinmul)\n",
    "pd.Series(datos_zigzag_sinmul).describe()"
   ]
  },
  {
   "cell_type": "code",
   "execution_count": null,
   "metadata": {},
   "outputs": [],
   "source": [
    "datos_zigzag_sinlea = []\n",
    "obtener_datos(parametros_zigzag, repeticiones, datos_zigzag_sinlea)\n",
    "pd.Series(datos_zigzag_sinlea).describe()"
   ]
  }
 ],
 "metadata": {
  "kernelspec": {
   "display_name": "Python 3",
   "language": "python",
   "name": "python3"
  },
  "language_info": {
   "codemirror_mode": {
    "name": "ipython",
    "version": 3
   },
   "file_extension": ".py",
   "mimetype": "text/x-python",
   "name": "python",
   "nbconvert_exporter": "python",
   "pygments_lexer": "ipython3",
   "version": "3.7.4"
  }
 },
 "nbformat": 4,
 "nbformat_minor": 4
}
